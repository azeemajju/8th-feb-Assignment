{
 "cells": [
  {
   "cell_type": "code",
   "execution_count": 2,
   "id": "874915e0",
   "metadata": {},
   "outputs": [
    {
     "data": {
      "text/plain": [
       "\"Your car is a great example of abstraction. You can start a car by turning the key or pressing the start button.\\nYou don't need to know how the engine is getting started, what all components your car has. \\nThe car internal implementation and complex logic is completely hidden from the user.\""
      ]
     },
     "execution_count": 2,
     "metadata": {},
     "output_type": "execute_result"
    }
   ],
   "source": [
    "#(Q1):\n",
    "\"\"\"Abstraction: Abstraction in python is defined as a process of handling complexity by hiding unnecessary information from the user.\n",
    "This is one of the core concepts of object-oriented programming (OOP) languages.\"\"\"\n",
    "\n",
    "#Example:\n",
    "\"\"\"Your car is a great example of abstraction. You can start a car by turning the key or pressing the start button.\n",
    "You don't need to know how the engine is getting started, what all components your car has. \n",
    "The car internal implementation and complex logic is completely hidden from the user.\"\"\""
   ]
  },
  {
   "cell_type": "code",
   "execution_count": null,
   "id": "2527d671",
   "metadata": {},
   "outputs": [],
   "source": [
    "#(Q2):\n",
    "\"\"\"Abstraction is hiding the details and implementation of the code.\n",
    "Encapsulation is hiding the data and controlling the visibility of the code\"\"\"\n"
   ]
  },
  {
   "cell_type": "code",
   "execution_count": 3,
   "id": "c4840d7c",
   "metadata": {},
   "outputs": [
    {
     "name": "stdout",
     "output_type": "stream",
     "text": [
      "15\n",
      "5\n"
     ]
    }
   ],
   "source": [
    "#(Q3):\n",
    "\"\"\"In Python, abstract base classes provide a blueprint for concrete classes. \n",
    "They don't contain implementation. Instead, they provide an interface and make \n",
    "sure that derived concrete classes are properly implemented\"\"\"\n",
    "\n",
    "#example:\n",
    "from abc import ABC, abstractmethod\n",
    "\n",
    "\n",
    "class Calculation(ABC):\n",
    "\n",
    "    @abstractmethod\n",
    "    def add(self):\n",
    "        pass\n",
    "\n",
    "    @abstractmethod\n",
    "    def subtract(self):\n",
    "        pass\n",
    "\n",
    "    def multiply(self):\n",
    "        pass\n",
    "\n",
    "    def division(self):\n",
    "        pass\n",
    "\n",
    "\n",
    "class Calculator(Calculation):\n",
    "\n",
    "    def __init__(self, a, b):\n",
    "        self.a = a\n",
    "        self.b = b\n",
    "\n",
    "    def add(self):\n",
    "        print(self.a + self.b)\n",
    "\n",
    "    def subtract(self):\n",
    "        print(self.a - self.b)\n",
    "\n",
    "\n",
    "take = Calculator(10, 5)\n",
    "take.add()\n",
    "take.subtract()"
   ]
  },
  {
   "cell_type": "code",
   "execution_count": null,
   "id": "a344f748",
   "metadata": {},
   "outputs": [],
   "source": [
    "#(Q4):\n",
    "\n",
    "\"\"\"Data abstraction is a method where essential elements are displayed to the user and trivial elements are kept hidden. \n",
    "In Java, abstraction is achieved by using the abstract keyword for classes and interfaces.\n",
    "In abstract classes, we can have abstract methods as well as concrete methods.\"\"\""
   ]
  },
  {
   "cell_type": "code",
   "execution_count": null,
   "id": "5586876c",
   "metadata": {},
   "outputs": [],
   "source": [
    "#(Q5):\n",
    "\n",
    "\"\"\"Abstract classes cannot be instantiated, but they can be subclassed. \n",
    "When an abstract class is subclassed, the subclass usually provides implementations for all of the abstract methods in its parent class.\n",
    "However, if it does not, then the subclass must also be declared abstract .\"\"\""
   ]
  },
  {
   "cell_type": "code",
   "execution_count": null,
   "id": "9e43fd59",
   "metadata": {},
   "outputs": [],
   "source": []
  },
  {
   "cell_type": "code",
   "execution_count": null,
   "id": "dd8fa00f",
   "metadata": {},
   "outputs": [],
   "source": []
  },
  {
   "cell_type": "code",
   "execution_count": null,
   "id": "cf7235e4",
   "metadata": {},
   "outputs": [],
   "source": []
  },
  {
   "cell_type": "code",
   "execution_count": null,
   "id": "9d7c00e8",
   "metadata": {},
   "outputs": [],
   "source": []
  },
  {
   "cell_type": "code",
   "execution_count": null,
   "id": "b71c8bc2",
   "metadata": {},
   "outputs": [],
   "source": []
  },
  {
   "cell_type": "code",
   "execution_count": null,
   "id": "7cddcf54",
   "metadata": {},
   "outputs": [],
   "source": []
  },
  {
   "cell_type": "code",
   "execution_count": null,
   "id": "6333064c",
   "metadata": {},
   "outputs": [],
   "source": []
  },
  {
   "cell_type": "code",
   "execution_count": null,
   "id": "142cfad8",
   "metadata": {},
   "outputs": [],
   "source": []
  },
  {
   "cell_type": "code",
   "execution_count": null,
   "id": "dc8d4e32",
   "metadata": {},
   "outputs": [],
   "source": []
  },
  {
   "cell_type": "code",
   "execution_count": null,
   "id": "ef77f870",
   "metadata": {},
   "outputs": [],
   "source": []
  },
  {
   "cell_type": "code",
   "execution_count": null,
   "id": "376b6fbe",
   "metadata": {},
   "outputs": [],
   "source": []
  },
  {
   "cell_type": "code",
   "execution_count": null,
   "id": "4e87c5c4",
   "metadata": {},
   "outputs": [],
   "source": []
  },
  {
   "cell_type": "code",
   "execution_count": null,
   "id": "b1890fb1",
   "metadata": {},
   "outputs": [],
   "source": []
  },
  {
   "cell_type": "code",
   "execution_count": null,
   "id": "c0be903a",
   "metadata": {},
   "outputs": [],
   "source": []
  },
  {
   "cell_type": "code",
   "execution_count": null,
   "id": "4a1454e6",
   "metadata": {},
   "outputs": [],
   "source": []
  },
  {
   "cell_type": "code",
   "execution_count": null,
   "id": "30c716fd",
   "metadata": {},
   "outputs": [],
   "source": []
  },
  {
   "cell_type": "code",
   "execution_count": null,
   "id": "9f0cdd92",
   "metadata": {},
   "outputs": [],
   "source": []
  },
  {
   "cell_type": "code",
   "execution_count": null,
   "id": "1320ce87",
   "metadata": {},
   "outputs": [],
   "source": []
  },
  {
   "cell_type": "code",
   "execution_count": null,
   "id": "e21c79f5",
   "metadata": {},
   "outputs": [],
   "source": []
  },
  {
   "cell_type": "code",
   "execution_count": null,
   "id": "f55ac46e",
   "metadata": {},
   "outputs": [],
   "source": []
  },
  {
   "cell_type": "code",
   "execution_count": null,
   "id": "9309afa1",
   "metadata": {},
   "outputs": [],
   "source": []
  },
  {
   "cell_type": "code",
   "execution_count": null,
   "id": "44377c9d",
   "metadata": {},
   "outputs": [],
   "source": []
  },
  {
   "cell_type": "code",
   "execution_count": null,
   "id": "ce5e99f0",
   "metadata": {},
   "outputs": [],
   "source": []
  },
  {
   "cell_type": "code",
   "execution_count": null,
   "id": "3e4a7eb4",
   "metadata": {},
   "outputs": [],
   "source": []
  },
  {
   "cell_type": "code",
   "execution_count": null,
   "id": "99c2957f",
   "metadata": {},
   "outputs": [],
   "source": []
  },
  {
   "cell_type": "code",
   "execution_count": null,
   "id": "5308991c",
   "metadata": {},
   "outputs": [],
   "source": []
  },
  {
   "cell_type": "code",
   "execution_count": null,
   "id": "fa207c38",
   "metadata": {},
   "outputs": [],
   "source": []
  },
  {
   "cell_type": "code",
   "execution_count": null,
   "id": "85431c2f",
   "metadata": {},
   "outputs": [],
   "source": []
  }
 ],
 "metadata": {
  "kernelspec": {
   "display_name": "Python 3 (ipykernel)",
   "language": "python",
   "name": "python3"
  },
  "language_info": {
   "codemirror_mode": {
    "name": "ipython",
    "version": 3
   },
   "file_extension": ".py",
   "mimetype": "text/x-python",
   "name": "python",
   "nbconvert_exporter": "python",
   "pygments_lexer": "ipython3",
   "version": "3.9.13"
  }
 },
 "nbformat": 4,
 "nbformat_minor": 5
}
